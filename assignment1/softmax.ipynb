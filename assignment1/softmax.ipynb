{
 "cells": [
  {
   "cell_type": "markdown",
   "metadata": {},
   "source": [
    "# Softmax exercise\n",
    "\n",
    "*Complete and hand in this completed worksheet (including its outputs and any supporting code outside of the worksheet) with your assignment submission. For more details see the [assignments page](http://vision.stanford.edu/teaching/cs231n/assignments.html) on the course website.*\n",
    "\n",
    "This exercise is analogous to the SVM exercise. You will:\n",
    "\n",
    "- implement a fully-vectorized **loss function** for the Softmax classifier\n",
    "- implement the fully-vectorized expression for its **analytic gradient**\n",
    "- **check your implementation** with numerical gradient\n",
    "- use a validation set to **tune the learning rate and regularization** strength\n",
    "- **optimize** the loss function with **SGD**\n",
    "- **visualize** the final learned weights\n"
   ]
  },
  {
   "cell_type": "code",
   "execution_count": 1,
   "metadata": {
    "collapsed": false
   },
   "outputs": [],
   "source": [
    "import random\n",
    "import numpy as np\n",
    "from cs231n.data_utils import load_CIFAR10\n",
    "import matplotlib as mpl\n",
    "mpl.use('TkAgg')\n",
    "import matplotlib.pyplot as plt\n",
    "\n",
    "from __future__ import print_function\n",
    "\n",
    "%matplotlib inline\n",
    "plt.rcParams['figure.figsize'] = (10.0, 8.0) # set default size of plots\n",
    "plt.rcParams['image.interpolation'] = 'nearest'\n",
    "plt.rcParams['image.cmap'] = 'gray'\n",
    "\n",
    "# for auto-reloading extenrnal modules\n",
    "# see http://stackoverflow.com/questions/1907993/autoreload-of-modules-in-ipython\n",
    "%load_ext autoreload\n",
    "%autoreload 2"
   ]
  },
  {
   "cell_type": "code",
   "execution_count": 2,
   "metadata": {
    "collapsed": false
   },
   "outputs": [
    {
     "name": "stdout",
     "output_type": "stream",
     "text": [
      "Train data shape:  (49000, 3073)\n",
      "Train labels shape:  (49000,)\n",
      "Validation data shape:  (1000, 3073)\n",
      "Validation labels shape:  (1000,)\n",
      "Test data shape:  (1000, 3073)\n",
      "Test labels shape:  (1000,)\n",
      "dev data shape:  (500, 3073)\n",
      "dev labels shape:  (500,)\n"
     ]
    }
   ],
   "source": [
    "def get_CIFAR10_data(num_training=49000, num_validation=1000, num_test=1000, num_dev=500):\n",
    "    \"\"\"\n",
    "    Load the CIFAR-10 dataset from disk and perform preprocessing to prepare\n",
    "    it for the linear classifier. These are the same steps as we used for the\n",
    "    SVM, but condensed to a single function.  \n",
    "    \"\"\"\n",
    "    # Load the raw CIFAR-10 data\n",
    "    cifar10_dir = 'cs231n/datasets/cifar-10-batches-py'\n",
    "    X_train, y_train, X_test, y_test = load_CIFAR10(cifar10_dir)\n",
    "    \n",
    "    # subsample the data\n",
    "    mask = list(range(num_training, num_training + num_validation))\n",
    "    X_val = X_train[mask]\n",
    "    y_val = y_train[mask]\n",
    "    mask = list(range(num_training))\n",
    "    X_train = X_train[mask]\n",
    "    y_train = y_train[mask]\n",
    "    mask = list(range(num_test))\n",
    "    X_test = X_test[mask]\n",
    "    y_test = y_test[mask]\n",
    "    mask = np.random.choice(num_training, num_dev, replace=False)\n",
    "    X_dev = X_train[mask]\n",
    "    y_dev = y_train[mask]\n",
    "    \n",
    "    # Preprocessing: reshape the image data into rows\n",
    "    X_train = np.reshape(X_train, (X_train.shape[0], -1))\n",
    "    X_val = np.reshape(X_val, (X_val.shape[0], -1))\n",
    "    X_test = np.reshape(X_test, (X_test.shape[0], -1))\n",
    "    X_dev = np.reshape(X_dev, (X_dev.shape[0], -1))\n",
    "    \n",
    "    # Normalize the data: subtract the mean image\n",
    "    mean_image = np.mean(X_train, axis = 0)\n",
    "    X_train -= mean_image\n",
    "    X_val -= mean_image\n",
    "    X_test -= mean_image\n",
    "    X_dev -= mean_image\n",
    "    \n",
    "    # add bias dimension and transform into columns\n",
    "    X_train = np.hstack([X_train, np.ones((X_train.shape[0], 1))])\n",
    "    X_val = np.hstack([X_val, np.ones((X_val.shape[0], 1))])\n",
    "    X_test = np.hstack([X_test, np.ones((X_test.shape[0], 1))])\n",
    "    X_dev = np.hstack([X_dev, np.ones((X_dev.shape[0], 1))])\n",
    "    \n",
    "    return X_train, y_train, X_val, y_val, X_test, y_test, X_dev, y_dev\n",
    "\n",
    "\n",
    "# Invoke the above function to get our data.\n",
    "X_train, y_train, X_val, y_val, X_test, y_test, X_dev, y_dev = get_CIFAR10_data()\n",
    "print('Train data shape: ', X_train.shape)\n",
    "print('Train labels shape: ', y_train.shape)\n",
    "print('Validation data shape: ', X_val.shape)\n",
    "print('Validation labels shape: ', y_val.shape)\n",
    "print('Test data shape: ', X_test.shape)\n",
    "print('Test labels shape: ', y_test.shape)\n",
    "print('dev data shape: ', X_dev.shape)\n",
    "print('dev labels shape: ', y_dev.shape)"
   ]
  },
  {
   "cell_type": "markdown",
   "metadata": {},
   "source": [
    "## Softmax Classifier\n",
    "\n",
    "Your code for this section will all be written inside **cs231n/classifiers/softmax.py**. \n"
   ]
  },
  {
   "cell_type": "code",
   "execution_count": 25,
   "metadata": {
    "collapsed": false
   },
   "outputs": [
    {
     "name": "stdout",
     "output_type": "stream",
     "text": [
      "loss: 2.356067\n",
      "sanity check: 2.302585\n"
     ]
    }
   ],
   "source": [
    "# First implement the naive softmax loss function with nested loops.\n",
    "# Open the file cs231n/classifiers/softmax.py and implement the\n",
    "# softmax_loss_naive function.\n",
    "\n",
    "from cs231n.classifiers.softmax import softmax_loss_naive\n",
    "import time\n",
    "\n",
    "# Generate a random softmax weight matrix and use it to compute the loss.\n",
    "W = np.random.randn(3073, 10) * 0.0001\n",
    "loss, grad = softmax_loss_naive(W, X_dev, y_dev, 0.0)\n",
    "\n",
    "# As a rough sanity check, our loss should be something close to -log(0.1).\n",
    "print('loss: %f' % loss)\n",
    "print('sanity check: %f' % (-np.log(0.1)))"
   ]
  },
  {
   "cell_type": "markdown",
   "metadata": {},
   "source": [
    "## Inline Question 1:\n",
    "Why do we expect our loss to be close to -log(0.1)? Explain briefly.**\n",
    "\n",
    "**Your answer:** Approx. 1/10th probability for each example (because our weights are random) and we sum over m training examples and divide by the same so we can expect -log(1/10) = -log(0.1) loss.\n"
   ]
  },
  {
   "cell_type": "code",
   "execution_count": 31,
   "metadata": {
    "collapsed": false
   },
   "outputs": [
    {
     "name": "stdout",
     "output_type": "stream",
     "text": [
      "numerical: 1.596961 analytic: 1.596961, relative error: 5.153242e-08\n",
      "numerical: -1.254966 analytic: -1.254966, relative error: 1.237620e-08\n",
      "numerical: 0.350332 analytic: 0.350332, relative error: 7.982939e-09\n",
      "numerical: -0.812137 analytic: -0.812137, relative error: 5.545341e-08\n",
      "numerical: -2.284912 analytic: -2.284912, relative error: 3.585623e-09\n",
      "numerical: -1.684857 analytic: -1.684857, relative error: 1.469308e-09\n",
      "numerical: 1.282539 analytic: 1.282539, relative error: 2.784189e-09\n",
      "numerical: 1.242382 analytic: 1.242382, relative error: 2.953362e-08\n",
      "numerical: 0.062244 analytic: 0.062244, relative error: 1.955364e-07\n",
      "numerical: -2.324131 analytic: -2.324131, relative error: 1.583256e-09\n",
      "numerical: 1.263067 analytic: 1.263067, relative error: 2.022257e-08\n",
      "numerical: 0.927234 analytic: 0.927234, relative error: 1.785065e-08\n",
      "numerical: 1.206263 analytic: 1.206263, relative error: 4.533538e-09\n",
      "numerical: 0.177289 analytic: 0.177289, relative error: 6.913797e-08\n",
      "numerical: 0.642226 analytic: 0.642226, relative error: 3.877742e-08\n",
      "numerical: 0.512276 analytic: 0.512276, relative error: 3.288024e-08\n",
      "numerical: 0.926960 analytic: 0.926960, relative error: 1.168010e-09\n",
      "numerical: -0.400082 analytic: -0.400082, relative error: 8.991618e-08\n",
      "numerical: -1.284312 analytic: -1.284312, relative error: 3.458524e-08\n",
      "numerical: 0.870673 analytic: 0.870672, relative error: 5.066105e-08\n"
     ]
    }
   ],
   "source": [
    "# Complete the implementation of softmax_loss_naive and implement a (naive)\n",
    "# version of the gradient that uses nested loops.\n",
    "loss, grad = softmax_loss_naive(W, X_dev, y_dev, 0.0)\n",
    "\n",
    "# As we did for the SVM, use numeric gradient checking as a debugging tool.\n",
    "# The numeric gradient should be close to the analytic gradient.\n",
    "from cs231n.gradient_check import grad_check_sparse\n",
    "f = lambda w: softmax_loss_naive(w, X_dev, y_dev, 0.0)[0]\n",
    "grad_numerical = grad_check_sparse(f, W, grad, 10)\n",
    "\n",
    "# similar to SVM case, do another gradient check with regularization\n",
    "loss, grad = softmax_loss_naive(W, X_dev, y_dev, 5e1)\n",
    "f = lambda w: softmax_loss_naive(w, X_dev, y_dev, 5e1)[0]\n",
    "grad_numerical = grad_check_sparse(f, W, grad, 10)"
   ]
  },
  {
   "cell_type": "code",
   "execution_count": 42,
   "metadata": {
    "collapsed": false
   },
   "outputs": [
    {
     "name": "stdout",
     "output_type": "stream",
     "text": [
      "naive loss: 2.356067e+00 computed in 0.067734s\n",
      "vectorized loss: 2.356067e+00 computed in 0.005232s\n",
      "Loss difference: 0.000000\n",
      "Gradient difference: 0.000000\n"
     ]
    }
   ],
   "source": [
    "# Now that we have a naive implementation of the softmax loss function and its gradient,\n",
    "# implement a vectorized version in softmax_loss_vectorized.\n",
    "# The two versions should compute the same results, but the vectorized version should be\n",
    "# much faster.\n",
    "tic = time.time()\n",
    "loss_naive, grad_naive = softmax_loss_naive(W, X_dev, y_dev, 0.000005)\n",
    "toc = time.time()\n",
    "print('naive loss: %e computed in %fs' % (loss_naive, toc - tic))\n",
    "\n",
    "from cs231n.classifiers.softmax import softmax_loss_vectorized\n",
    "tic = time.time()\n",
    "loss_vectorized, grad_vectorized = softmax_loss_vectorized(W, X_dev, y_dev, 0.000005)\n",
    "toc = time.time()\n",
    "print('vectorized loss: %e computed in %fs' % (loss_vectorized, toc - tic))\n",
    "\n",
    "# As we did for the SVM, we use the Frobenius norm to compare the two versions\n",
    "# of the gradient.\n",
    "grad_difference = np.linalg.norm(grad_naive - grad_vectorized, ord='fro')\n",
    "print('Loss difference: %f' % np.abs(loss_naive - loss_vectorized))\n",
    "print('Gradient difference: %f' % grad_difference)"
   ]
  },
  {
   "cell_type": "code",
   "execution_count": 46,
   "metadata": {
    "collapsed": false
   },
   "outputs": [
    {
     "name": "stdout",
     "output_type": "stream",
     "text": [
      "lr 1.000000e-07 reg 2.500000e+04 train accuracy: 0.331000 val accuracy: 0.349000\n",
      "lr 1.000000e-07 reg 3.125000e+04 train accuracy: 0.314571 val accuracy: 0.324000\n",
      "lr 1.000000e-07 reg 3.750000e+04 train accuracy: 0.307122 val accuracy: 0.320000\n",
      "lr 1.000000e-07 reg 4.375000e+04 train accuracy: 0.299837 val accuracy: 0.318000\n",
      "lr 1.000000e-07 reg 5.000000e+04 train accuracy: 0.302898 val accuracy: 0.330000\n",
      "lr 2.000000e-07 reg 2.500000e+04 train accuracy: 0.318694 val accuracy: 0.331000\n",
      "lr 2.000000e-07 reg 3.125000e+04 train accuracy: 0.309694 val accuracy: 0.330000\n",
      "lr 2.000000e-07 reg 3.750000e+04 train accuracy: 0.305796 val accuracy: 0.306000\n",
      "lr 2.000000e-07 reg 4.375000e+04 train accuracy: 0.293143 val accuracy: 0.302000\n",
      "lr 2.000000e-07 reg 5.000000e+04 train accuracy: 0.291469 val accuracy: 0.307000\n",
      "lr 3.000000e-07 reg 2.500000e+04 train accuracy: 0.295776 val accuracy: 0.308000\n",
      "lr 3.000000e-07 reg 3.125000e+04 train accuracy: 0.302041 val accuracy: 0.316000\n",
      "lr 3.000000e-07 reg 3.750000e+04 train accuracy: 0.309061 val accuracy: 0.330000\n",
      "lr 3.000000e-07 reg 4.375000e+04 train accuracy: 0.272796 val accuracy: 0.290000\n",
      "lr 3.000000e-07 reg 5.000000e+04 train accuracy: 0.276041 val accuracy: 0.287000\n",
      "lr 4.000000e-07 reg 2.500000e+04 train accuracy: 0.277327 val accuracy: 0.266000\n",
      "lr 4.000000e-07 reg 3.125000e+04 train accuracy: 0.286000 val accuracy: 0.298000\n",
      "lr 4.000000e-07 reg 3.750000e+04 train accuracy: 0.289041 val accuracy: 0.302000\n",
      "lr 4.000000e-07 reg 4.375000e+04 train accuracy: 0.268755 val accuracy: 0.288000\n",
      "lr 4.000000e-07 reg 5.000000e+04 train accuracy: 0.248735 val accuracy: 0.247000\n",
      "lr 5.000000e-07 reg 2.500000e+04 train accuracy: 0.292122 val accuracy: 0.303000\n",
      "lr 5.000000e-07 reg 3.125000e+04 train accuracy: 0.313041 val accuracy: 0.317000\n",
      "lr 5.000000e-07 reg 3.750000e+04 train accuracy: 0.279939 val accuracy: 0.277000\n",
      "lr 5.000000e-07 reg 4.375000e+04 train accuracy: 0.259163 val accuracy: 0.254000\n",
      "lr 5.000000e-07 reg 5.000000e+04 train accuracy: 0.276245 val accuracy: 0.279000\n",
      "best validation accuracy achieved during cross-validation: 0.349000\n"
     ]
    }
   ],
   "source": [
    "# Use the validation set to tune hyperparameters (regularization strength and\n",
    "# learning rate). You should experiment with different ranges for the learning\n",
    "# rates and regularization strengths; if you are careful you should be able to\n",
    "# get a classification accuracy of over 0.35 on the validation set.\n",
    "from cs231n.classifiers import Softmax\n",
    "results = {}\n",
    "best_val = -1\n",
    "best_softmax = None\n",
    "learning_rates = [1e-7, 5e-7]\n",
    "regularization_strengths = [2.5e4, 5e4]\n",
    "\n",
    "################################################################################\n",
    "# TODO:                                                                        #\n",
    "# Use the validation set to set the learning rate and regularization strength. #\n",
    "# This should be identical to the validation that you did for the SVM; save    #\n",
    "# the best trained softmax classifer in best_softmax.                          #\n",
    "################################################################################\n",
    "alphas = np.linspace(learning_rates[0], learning_rates[1], num = 5)\n",
    "lambdas = np.linspace(regularization_strengths[0], regularization_strengths[1], num = 5)\n",
    "for alpha in alphas:\n",
    "    for lambda_ in lambdas:\n",
    "        \n",
    "        softmax = Softmax()\n",
    "        \n",
    "        softmax.train(X_train, y_train, learning_rate = alpha, reg = lambda_, num_iters = 10000, batch_size = 20)\n",
    "        \n",
    "        y_pred_val = softmax.predict(X_val)\n",
    "        accuracy_val = np.sum(y_pred_val==y_val)/y_val.shape[0]\n",
    "        \n",
    "        y_pred_train = softmax.predict(X_train)\n",
    "        accuracy_train = np.sum(y_pred_train==y_train)/y_train.shape[0]\n",
    "        \n",
    "        # y_pred_test = softmax.predict(X_test)\n",
    "        # accuracy_test = (y_pred_test==y_val)/y_val.shape[0]\n",
    "        \n",
    "        results[(alpha, lambda_)] = (accuracy_train, accuracy_val)\n",
    "        \n",
    "        if(accuracy_val > best_val):\n",
    "            best_val = accuracy_val\n",
    "            best_softmax = softmax\n",
    "################################################################################\n",
    "#                              END OF YOUR CODE                                #\n",
    "################################################################################\n",
    "    \n",
    "# Print out results.\n",
    "for lr, reg in sorted(results):\n",
    "    train_accuracy, val_accuracy = results[(lr, reg)]\n",
    "    print('lr %e reg %e train accuracy: %f val accuracy: %f' % (\n",
    "                lr, reg, train_accuracy, val_accuracy))\n",
    "    \n",
    "print('best validation accuracy achieved during cross-validation: %f' % best_val)"
   ]
  },
  {
   "cell_type": "code",
   "execution_count": 47,
   "metadata": {
    "collapsed": false
   },
   "outputs": [
    {
     "name": "stdout",
     "output_type": "stream",
     "text": [
      "softmax on raw pixels final test set accuracy: 0.339000\n"
     ]
    }
   ],
   "source": [
    "# evaluate on test set\n",
    "# Evaluate the best softmax on test set\n",
    "y_test_pred = best_softmax.predict(X_test)\n",
    "test_accuracy = np.mean(y_test == y_test_pred)\n",
    "print('softmax on raw pixels final test set accuracy: %f' % (test_accuracy, ))"
   ]
  },
  {
   "cell_type": "code",
   "execution_count": 48,
   "metadata": {
    "collapsed": false
   },
   "outputs": [
    {
     "data": {
      "image/png": "[encoded data removed]",
      "text/plain": [
       "<matplotlib.figure.Figure at 0x7f86f31a3550>"
      ]
     },
     "metadata": {},
     "output_type": "display_data"
    }
   ],
   "source": [
    "# Visualize the learned weights for each class\n",
    "w = best_softmax.W[:-1,:] # strip out the bias\n",
    "w = w.reshape(32, 32, 3, 10)\n",
    "\n",
    "w_min, w_max = np.min(w), np.max(w)\n",
    "\n",
    "classes = ['plane', 'car', 'bird', 'cat', 'deer', 'dog', 'frog', 'horse', 'ship', 'truck']\n",
    "for i in range(10):\n",
    "    plt.subplot(2, 5, i + 1)\n",
    "    \n",
    "    # Rescale the weights to be between 0 and 255\n",
    "    wimg = 255.0 * (w[:, :, :, i].squeeze() - w_min) / (w_max - w_min)\n",
    "    plt.imshow(wimg.astype('uint8'))\n",
    "    plt.axis('off')\n",
    "    plt.title(classes[i])"
   ]
  }
 ],
 "metadata": {
  "kernelspec": {
   "display_name": "CS231npy3.5",
   "language": "python",
   "name": "cs231n"
  },
  "language_info": {
   "codemirror_mode": {
    "name": "ipython",
    "version": 3
   },
   "file_extension": ".py",
   "mimetype": "text/x-python",
   "name": "python",
   "nbconvert_exporter": "python",
   "pygments_lexer": "ipython3",
   "version": "3.5.6"
  }
 },
 "nbformat": 4,
 "nbformat_minor": 0
}
